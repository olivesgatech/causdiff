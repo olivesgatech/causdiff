{
 "cells": [
  {
   "cell_type": "code",
   "execution_count": 1,
   "id": "6a80b683",
   "metadata": {},
   "outputs": [
    {
     "name": "stdout",
     "output_type": "stream",
     "text": [
      "Submitted batch job 2492618\r\n"
     ]
    }
   ],
   "source": [
    "!sbatch run.sh"
   ]
  },
  {
   "cell_type": "code",
   "execution_count": 4,
   "id": "e5b7fe87",
   "metadata": {},
   "outputs": [],
   "source": [
    "!scancel 2500041"
   ]
  },
  {
   "cell_type": "code",
   "execution_count": 7,
   "id": "31eb8f88",
   "metadata": {},
   "outputs": [
    {
     "name": "stdout",
     "output_type": "stream",
     "text": [
      "Submitted batch job 2471636\r\n"
     ]
    }
   ],
   "source": [
    "!sbatch test.sh"
   ]
  },
  {
   "cell_type": "code",
   "execution_count": 1,
   "id": "cbc3af4c",
   "metadata": {},
   "outputs": [
    {
     "name": "stdout",
     "output_type": "stream",
     "text": [
      "Submitted batch job 2500182\r\n"
     ]
    }
   ],
   "source": [
    "!sbatch run-causal.sh"
   ]
  },
  {
   "cell_type": "code",
   "execution_count": 1,
   "id": "31157286",
   "metadata": {},
   "outputs": [
    {
     "name": "stdout",
     "output_type": "stream",
     "text": [
      "Submitted batch job 2480076\r\n"
     ]
    }
   ],
   "source": [
    "!sbatch test-causal.sh"
   ]
  },
  {
   "cell_type": "code",
   "execution_count": 1,
   "id": "6f7d37b1",
   "metadata": {},
   "outputs": [
    {
     "name": "stdout",
     "output_type": "stream",
     "text": [
      "Submitted batch job 2538688\r\n"
     ]
    }
   ],
   "source": [
    "!sbatch run-causal-hierarchical.sh"
   ]
  },
  {
   "cell_type": "code",
   "execution_count": 1,
   "id": "f37b0d01",
   "metadata": {},
   "outputs": [
    {
     "name": "stdout",
     "output_type": "stream",
     "text": [
      "Submitted batch job 2545884\r\n"
     ]
    }
   ],
   "source": [
    "!sbatch run-l1-determ.sh"
   ]
  },
  {
   "cell_type": "code",
   "execution_count": null,
   "id": "d4e09e6f",
   "metadata": {},
   "outputs": [],
   "source": []
  }
 ],
 "metadata": {
  "kernelspec": {
   "display_name": "Python [conda env:anaconda3-myenv3]",
   "language": "python",
   "name": "conda-env-anaconda3-myenv3-py"
  },
  "language_info": {
   "codemirror_mode": {
    "name": "ipython",
    "version": 3
   },
   "file_extension": ".py",
   "mimetype": "text/x-python",
   "name": "python",
   "nbconvert_exporter": "python",
   "pygments_lexer": "ipython3",
   "version": "3.8.20"
  }
 },
 "nbformat": 4,
 "nbformat_minor": 5
}
